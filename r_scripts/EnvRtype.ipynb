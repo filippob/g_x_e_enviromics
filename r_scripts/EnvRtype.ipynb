{
  "nbformat": 4,
  "nbformat_minor": 0,
  "metadata": {
    "colab": {
      "provenance": []
    },
    "kernelspec": {
      "name": "ir",
      "display_name": "R"
    },
    "language_info": {
      "name": "R"
    }
  },
  "cells": [
    {
      "cell_type": "markdown",
      "source": [
        "### Set up"
      ],
      "metadata": {
        "id": "TipvuXr3sYsL"
      }
    },
    {
      "cell_type": "code",
      "source": [
        "#devtools::install_github('allogamous/EnvRtype',force=TRUE) # current version:  1.1.0 (June 2022)"
      ],
      "metadata": {
        "collapsed": true,
        "id": "nxbxbJ5QVwj3"
      },
      "execution_count": null,
      "outputs": []
    },
    {
      "cell_type": "code",
      "execution_count": null,
      "metadata": {
        "collapsed": true,
        "id": "F6i6sTnrVrzS"
      },
      "outputs": [],
      "source": [
        "library(\"tidyr\")\n",
        "library(\"dplyr\")\n",
        "library(\"ggplot2\")\n",
        "library(\"devtools\")\n",
        "library(\"EnvRtype\")"
      ]
    },
    {
      "cell_type": "markdown",
      "source": [
        "### Example data"
      ],
      "metadata": {
        "id": "P2TM1DR_sc8V"
      }
    },
    {
      "cell_type": "code",
      "source": [
        "data(\"maizeYield\") # toy set of phenotype data (grain yield per environment)\n",
        "data(\"maizeG\"    ) # toy set of genomic relationship for additive effects\n",
        "data(\"maizeWTH\")   # toy set of environmental data\n",
        "y   = \"value\"      # name of the vector of phenotypes\n",
        "gid = \"gid\"        # name of the vector of genotypes\n",
        "env = \"env\"        # name of the vector of environments\n",
        "maizeYield <- droplevels(maizeYield) # make sure the nlevels of GID matchs with the G matrix dimension"
      ],
      "metadata": {
        "id": "MM4LMhn1ZM0n"
      },
      "execution_count": null,
      "outputs": []
    },
    {
      "cell_type": "code",
      "source": [
        "## environment, genotype, trait value (grain yield)\n",
        "head(maizeYield)"
      ],
      "metadata": {
        "id": "z43DXUY6h-cQ"
      },
      "execution_count": null,
      "outputs": []
    },
    {
      "cell_type": "markdown",
      "source": [
        "750 records from **150 genotypes** in **5 environments**:"
      ],
      "metadata": {
        "id": "Rt9hLZQTtEAr"
      }
    },
    {
      "cell_type": "code",
      "source": [
        "table(maizeYield$env)"
      ],
      "metadata": {
        "id": "mU8Ab4t8swta"
      },
      "execution_count": null,
      "outputs": []
    },
    {
      "cell_type": "code",
      "source": [
        "head(maizeWTH)"
      ],
      "metadata": {
        "id": "BdQO0kCRsrDq"
      },
      "execution_count": null,
      "outputs": []
    },
    {
      "cell_type": "code",
      "source": [
        "dim(maizeWTH)"
      ],
      "metadata": {
        "id": "9FiOj9q2tTSv"
      },
      "execution_count": null,
      "outputs": []
    },
    {
      "cell_type": "markdown",
      "source": [
        "`W_matrix` calculates a **matrix of environmental covariables**: average `k` envirotyping descriptors for `q` environments"
      ],
      "metadata": {
        "id": "4AhmNjmGuM6O"
      }
    },
    {
      "cell_type": "code",
      "source": [
        "W  = W_matrix(env.data = maizeWTH, var.id = c(\"FRUE\",'PETP',\"SRAD\",\"T2M_MAX\"), statistic = 'mean')"
      ],
      "metadata": {
        "id": "ps8ls85pZatc"
      },
      "execution_count": null,
      "outputs": []
    },
    {
      "cell_type": "code",
      "source": [
        "W"
      ],
      "metadata": {
        "id": "Mw3G9o5BuCM7"
      },
      "execution_count": null,
      "outputs": []
    },
    {
      "cell_type": "code",
      "source": [
        "## KG and KE might be a list of kernels\n",
        "KE = list(W = env_kernel(env.data = W)[[2]])\n",
        "KG = list(G=maizeG);"
      ],
      "metadata": {
        "id": "ImkRBTHct-NN"
      },
      "execution_count": null,
      "outputs": []
    },
    {
      "cell_type": "markdown",
      "source": [
        "##### Environmental relatedness matrix (k x k)"
      ],
      "metadata": {
        "id": "LsDJiu3Euif7"
      }
    },
    {
      "cell_type": "code",
      "source": [
        "KE$W"
      ],
      "metadata": {
        "id": "IedUZA4JueZi"
      },
      "execution_count": null,
      "outputs": []
    },
    {
      "cell_type": "markdown",
      "source": [
        "##### Genetic relatedness matrix (g x g)"
      ],
      "metadata": {
        "id": "ou7FRYyquuO6"
      }
    },
    {
      "cell_type": "code",
      "source": [
        "KG$G[1:5, 1:5]"
      ],
      "metadata": {
        "id": "K_zHQZTnupbt"
      },
      "execution_count": null,
      "outputs": []
    },
    {
      "cell_type": "markdown",
      "source": [
        "### Kernel models (EnvRtype)"
      ],
      "metadata": {
        "id": "SpGMKdwKuzmL"
      }
    },
    {
      "cell_type": "code",
      "source": [
        "writeLines(\" - CREATE KERNEL MODELS\")\n",
        "## Creating kernel models with get_kernel\n",
        "MM    = get_kernel(K_G = KG, y = y, gid = gid, env = env, data = maizeYield,model = \"MM\")\n",
        "MDs   = get_kernel(K_G = KG, y = y,gid = gid,env = env,  data = maizeYield, model = \"MDs\")\n",
        "EMM   = get_kernel(K_G = KG, K_E = KE, y = y,gid = gid,env = env,  data = maizeYield, model = \"EMM\")\n",
        "EMDs  = get_kernel(K_G = KG, K_E = KE, y = y,gid = gid,env = env,  data = maizeYield, model = \"EMDs\")\n",
        "RMMM  = get_kernel(K_G = KG, K_E = KE, y = y,gid = gid,env = env,  data = maizeYield, model = \"RNMM\")\n",
        "RNMDs = get_kernel(K_G = KG, K_E = KE, y = y,gid = gid,env = env,  data = maizeYield, model = \"RNMDs\")"
      ],
      "metadata": {
        "collapsed": true,
        "id": "2Mz1lrftZdEB"
      },
      "execution_count": null,
      "outputs": []
    },
    {
      "cell_type": "code",
      "source": [
        "writeLines(\" - FIT KERNEL MODELS\")\n",
        "fixed = model.matrix(~0+env, maizeYield)\n",
        "fit   = kernel_model(y = y,env = env,gid = gid, data = maizeYield,random = EMDs,fixed = fixed)"
      ],
      "metadata": {
        "id": "aBGlCISfZi7O"
      },
      "execution_count": null,
      "outputs": []
    },
    {
      "cell_type": "code",
      "source": [
        "print(fit$yHat)    # predicted phenotype values"
      ],
      "metadata": {
        "collapsed": true,
        "id": "juFR8uXyZmIW"
      },
      "execution_count": null,
      "outputs": []
    },
    {
      "cell_type": "code",
      "source": [
        "print(\"Variance Components\")\n",
        "print(fit$VarComp) # variance components and confidence intervals\n",
        "\n",
        "print(\"full model output\")\n",
        "print(fit$BGGE)    # full output of Hierarchical Bayesian Modeling"
      ],
      "metadata": {
        "collapsed": true,
        "id": "bvEqZCxqZxfi"
      },
      "execution_count": null,
      "outputs": []
    },
    {
      "cell_type": "markdown",
      "source": [
        "### Data for ASPA 2025"
      ],
      "metadata": {
        "id": "4PPnxfQAlgwl"
      }
    },
    {
      "cell_type": "code",
      "source": [
        "library(\"data.table\")"
      ],
      "metadata": {
        "id": "262cunXgl4gN"
      },
      "execution_count": null,
      "outputs": []
    },
    {
      "cell_type": "markdown",
      "source": [
        "##### Phenotypes"
      ],
      "metadata": {
        "id": "Uv9pjl3-1-Ui"
      }
    },
    {
      "cell_type": "code",
      "source": [
        "url = \"http://www.jackdellequerce.com/data/enviromics/pheno.csv\""
      ],
      "metadata": {
        "id": "bcCB1hklli5r"
      },
      "execution_count": null,
      "outputs": []
    },
    {
      "cell_type": "code",
      "source": [
        "phenotypes <- fread(url)"
      ],
      "metadata": {
        "id": "Ztq0_YIillc0"
      },
      "execution_count": null,
      "outputs": []
    },
    {
      "cell_type": "code",
      "source": [
        "head(phenotypes)"
      ],
      "metadata": {
        "id": "Qe3x0p73l7si"
      },
      "execution_count": null,
      "outputs": []
    },
    {
      "cell_type": "code",
      "source": [
        "Y = phenotypes |>\n",
        "  gather(key = \"environment\", value = \"milk\", -sire)\n",
        "\n",
        "Y = na.omit(Y)\n",
        "Y$environment = as.factor(Y$environment)\n",
        "Y$sire = as.factor(Y$sire)\n",
        "\n",
        "head(Y)"
      ],
      "metadata": {
        "id": "sk_SNZsNAGMd"
      },
      "execution_count": null,
      "outputs": []
    },
    {
      "cell_type": "code",
      "source": [
        "dim(Y)"
      ],
      "metadata": {
        "id": "aPbFOSCKAdLu"
      },
      "execution_count": null,
      "outputs": []
    },
    {
      "cell_type": "markdown",
      "source": [
        "##### Covariates"
      ],
      "metadata": {
        "id": "aavLRpSB2CKL"
      }
    },
    {
      "cell_type": "code",
      "source": [
        "url = \"http://www.jackdellequerce.com/data/enviromics/covariates.csv\"\n",
        "covariates = fread(url)\n",
        "head(covariates)"
      ],
      "metadata": {
        "id": "vPE14_iWmFqq"
      },
      "execution_count": null,
      "outputs": []
    },
    {
      "cell_type": "markdown",
      "source": [
        "##### Environmental descriptors (envirotyping)"
      ],
      "metadata": {
        "id": "GeVZgZNj2GrZ"
      }
    },
    {
      "cell_type": "code",
      "source": [
        "url = \"http://www.jackdellequerce.com/data/enviromics/enviro_typing.csv\"\n",
        "envtypes = fread(url)\n",
        "head(envtypes)"
      ],
      "metadata": {
        "id": "YYk1JUSzyp80"
      },
      "execution_count": null,
      "outputs": []
    },
    {
      "cell_type": "code",
      "source": [
        "dim(envtypes)"
      ],
      "metadata": {
        "id": "ht5AlmWDy6NY"
      },
      "execution_count": null,
      "outputs": []
    },
    {
      "cell_type": "markdown",
      "source": [
        "#### Environmental relatedness matrix\n",
        "\n",
        "Given $\\mathbf{W}$ (e x q), a matrix of `q` environmental descriptors (e.g. max temperature, average humidity etc.) on `e` environments, we calculate the **environmental relatedness matrix** as:\n",
        "\n",
        "$$\n",
        "K_E = \\frac{WW'}{\\text{trace}(WW')/\\text{nrow}(W)}\n",
        "$$"
      ],
      "metadata": {
        "id": "YPFVEaL72Tir"
      }
    },
    {
      "cell_type": "code",
      "source": [
        "## function to scale data, if needed\n",
        "scale_this <- function(x){\n",
        "  (x - mean(x, na.rm=TRUE)) / sd(x, na.rm=TRUE)\n",
        "}"
      ],
      "metadata": {
        "id": "N0guwkK308FC"
      },
      "execution_count": null,
      "outputs": []
    },
    {
      "cell_type": "code",
      "source": [
        "E <- envtypes[,-1]\n",
        "temp <- E |>\n",
        "  group_by(prov) |>\n",
        "  #mutate_all(scale_this) |>\n",
        "  #group_by(prov) |>\n",
        "  summarise_all(mean)\n",
        "\n",
        "print(\"average descriptors by environment\")\n",
        "env_names = temp$prov\n",
        "temp <- as.matrix(temp[,-1])\n",
        "rownames(temp) <- env_names\n",
        "temp"
      ],
      "metadata": {
        "id": "bWANGc-WzyWF"
      },
      "execution_count": null,
      "outputs": []
    },
    {
      "cell_type": "code",
      "source": [
        "## The env_kernel function has two outputs called varCov (relatedness among covariables) and envCov (relatedness among environments).\n",
        "KE = list(W = env_kernel(env.data = temp, gaussian = FALSE)[[2]])\n",
        "KE = list(W = env_kernel(env.data = temp)[[2]])"
      ],
      "metadata": {
        "id": "wA-tDsVuzsoj"
      },
      "execution_count": null,
      "outputs": []
    },
    {
      "cell_type": "code",
      "source": [
        "KE"
      ],
      "metadata": {
        "id": "gsNea8941tM3"
      },
      "execution_count": null,
      "outputs": []
    },
    {
      "cell_type": "code",
      "source": [
        "## upload manually kinship.RData to /content/ - will be deleted each time\n",
        "load('/content/kinship.RData')\n",
        "dim(kk)"
      ],
      "metadata": {
        "id": "t3K9bKLM7te0"
      },
      "execution_count": null,
      "outputs": []
    },
    {
      "cell_type": "code",
      "source": [
        "KG = list(G = kk);"
      ],
      "metadata": {
        "id": "LMDe3ztc7N-N"
      },
      "execution_count": null,
      "outputs": []
    },
    {
      "cell_type": "code",
      "source": [
        "gid = \"sire\"\n",
        "y = \"milk\"\n",
        "env = \"environment\""
      ],
      "metadata": {
        "id": "pFgZu05JAmcq"
      },
      "execution_count": null,
      "outputs": []
    },
    {
      "cell_type": "markdown",
      "source": [
        "### Model 1: No envirotyping\n",
        "\n",
        "Only fixed effects for environment"
      ],
      "metadata": {
        "id": "22S-W0ECT6uf"
      }
    },
    {
      "cell_type": "code",
      "source": [
        "M0 = get_kernel(K_G = KG, y = y, gid = gid, env = env, data = Y, model = \"MDs\")"
      ],
      "metadata": {
        "id": "k9_-3Fqc8bYg"
      },
      "execution_count": null,
      "outputs": []
    },
    {
      "cell_type": "code",
      "source": [
        "fixed = model.matrix(~0+environment, Y)\n",
        "head(fixed)"
      ],
      "metadata": {
        "id": "Ro4L40BIDi_H"
      },
      "execution_count": null,
      "outputs": []
    },
    {
      "cell_type": "code",
      "source": [
        "iter = 1000\n",
        "burn = 200\n",
        "thin = 10"
      ],
      "metadata": {
        "id": "1-IJgAEtETWH"
      },
      "execution_count": null,
      "outputs": []
    },
    {
      "cell_type": "code",
      "source": [
        "fit <- kernel_model(data = Y, y = y, env = env, gid = gid,\n",
        "random = M0, fixed = fixed, iterations = iter,\n",
        "burnin = burn, thining = thin)"
      ],
      "metadata": {
        "id": "x8eC1qxZEE0G"
      },
      "execution_count": null,
      "outputs": []
    },
    {
      "cell_type": "code",
      "source": [
        "fit$VarComp"
      ],
      "metadata": {
        "id": "hndtV7uxG4zM"
      },
      "execution_count": null,
      "outputs": []
    },
    {
      "cell_type": "code",
      "source": [
        "M1 = get_kernel(K_G = KG, K_E = KE, y = y, gid = gid, env = env, data = Y, model = \"RNMDs\")"
      ],
      "metadata": {
        "id": "OE6jBmk8BMkZ"
      },
      "execution_count": null,
      "outputs": []
    },
    {
      "cell_type": "code",
      "source": [
        "fit1 <- kernel_model(data = Y, y = y, env = env, gid = gid,\n",
        "random = M1, fixed = fixed, iterations = iter,\n",
        "burnin = burn, thining = thin)"
      ],
      "metadata": {
        "id": "XzSlf2RQKHWX"
      },
      "execution_count": null,
      "outputs": []
    },
    {
      "cell_type": "code",
      "source": [
        "fit1$VarComp"
      ],
      "metadata": {
        "id": "KOZ-ij3iRoQ2"
      },
      "execution_count": null,
      "outputs": []
    },
    {
      "cell_type": "markdown",
      "source": [
        "## Cross-validation"
      ],
      "metadata": {
        "id": "hjTaG5vHf5EB"
      }
    },
    {
      "cell_type": "code",
      "source": [
        "test_prop = 0.2\n",
        "n = nrow(Y)\n",
        "test_size = n*(test_prop)"
      ],
      "metadata": {
        "id": "91CvUPaYlRyG"
      },
      "execution_count": null,
      "outputs": []
    },
    {
      "cell_type": "markdown",
      "source": [
        "#### Model 0"
      ],
      "metadata": {
        "id": "s-mk5EW9lXqv"
      }
    },
    {
      "cell_type": "code",
      "source": [
        "yNA <- Y\n",
        "tst <- sample(1:n, size=test_size, replace=FALSE)"
      ],
      "metadata": {
        "id": "nPHIg9O2f6aW"
      },
      "execution_count": null,
      "outputs": []
    },
    {
      "cell_type": "code",
      "source": [
        "yNA[tst, \"milk\"] <- NA"
      ],
      "metadata": {
        "id": "qN2pPZX2gKxY"
      },
      "execution_count": null,
      "outputs": []
    },
    {
      "cell_type": "code",
      "source": [
        "head(yNA)"
      ],
      "metadata": {
        "id": "Ingm_7GMgb_a"
      },
      "execution_count": null,
      "outputs": []
    },
    {
      "cell_type": "code",
      "source": [
        "fit <- kernel_model(data = yNA, y = y, env = env, gid = gid,\n",
        "random = M0, fixed = fixed, iterations = iter,\n",
        "burnin = burn, thining = thin)"
      ],
      "metadata": {
        "id": "2vM9O-RHgvfU"
      },
      "execution_count": null,
      "outputs": []
    },
    {
      "cell_type": "code",
      "source": [
        "cor(Y$milk[-tst], fit$yHat[-tst], use = 'complete.obs')"
      ],
      "metadata": {
        "id": "P4136Elzg2cr"
      },
      "execution_count": null,
      "outputs": []
    },
    {
      "cell_type": "code",
      "source": [
        "cor(Y$milk[tst], fit$yHat[tst], use = 'complete.obs')"
      ],
      "metadata": {
        "id": "OmUsNhgrhC75"
      },
      "execution_count": null,
      "outputs": []
    },
    {
      "cell_type": "code",
      "source": [
        "fit$VarComp"
      ],
      "metadata": {
        "id": "Iu5g8UoAjX46"
      },
      "execution_count": null,
      "outputs": []
    },
    {
      "cell_type": "markdown",
      "source": [
        "#### Model 1"
      ],
      "metadata": {
        "id": "Ks5bufUNlbFU"
      }
    },
    {
      "cell_type": "code",
      "source": [
        "yNA <- Y\n",
        "tst1 <- sample(1:n, size=test_size, replace=FALSE)\n",
        "yNA[tst1, \"milk\"] <- NA"
      ],
      "metadata": {
        "id": "E9FxZ9lfle-j"
      },
      "execution_count": null,
      "outputs": []
    },
    {
      "cell_type": "code",
      "source": [
        "fit1 <- kernel_model(data = yNA, y = y, env = env, gid = gid,\n",
        "random = M1, fixed = fixed, iterations = iter,\n",
        "burnin = burn, thining = thin)"
      ],
      "metadata": {
        "id": "p69Q5WwMlme3"
      },
      "execution_count": null,
      "outputs": []
    },
    {
      "cell_type": "code",
      "source": [
        "cor(Y$milk[-tst1], fit1$yHat[-tst1], use = 'complete.obs')\n",
        "cor(Y$milk[tst1], fit1$yHat[tst1], use = 'complete.obs')"
      ],
      "metadata": {
        "id": "zOG6KA9ulmWt"
      },
      "execution_count": null,
      "outputs": []
    },
    {
      "cell_type": "markdown",
      "source": [
        "### Save results"
      ],
      "metadata": {
        "id": "UtUgZJIvliS4"
      }
    },
    {
      "cell_type": "code",
      "source": [
        "to_save = list('M0' = fit, 'test0' = tst, 'M1' = fit1, 'test1' = tst1)\n",
        "save(to_save, file = \"/content/results_EnvRtype.RData\")"
      ],
      "metadata": {
        "id": "2YZAluWjjevp"
      },
      "execution_count": null,
      "outputs": []
    }
  ]
}